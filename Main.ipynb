{
 "cells": [
  {
   "cell_type": "code",
   "execution_count": 4,
   "id": "45c068f9-fb20-4792-938f-a1fc4d42afbc",
   "metadata": {
    "tags": []
   },
   "outputs": [
    {
     "name": "stdout",
     "output_type": "stream",
     "text": [
      "/home/ec2-user/anaconda3/envs/pytorch_p310/lib/python3.10/site-packages/langchain/embeddings/__init__.py:29: LangChainDeprecationWarning: Importing embeddings from langchain is deprecated. Importing from langchain will no longer be supported as of langchain==0.2.0. Please import from langchain-community instead:\n",
      "\n",
      "`from langchain_community.embeddings import BedrockEmbeddings`.\n",
      "\n",
      "To install langchain-community run `pip install -U langchain-community`.\n",
      "  warnings.warn(\n",
      "/home/ec2-user/anaconda3/envs/pytorch_p310/lib/python3.10/site-packages/langchain/document_loaders/__init__.py:36: LangChainDeprecationWarning: Importing document loaders from langchain is deprecated. Importing from langchain will no longer be supported as of langchain==0.2.0. Please import from langchain-community instead:\n",
      "\n",
      "`from langchain_community.document_loaders import JSONLoader`.\n",
      "\n",
      "To install langchain-community run `pip install -U langchain-community`.\n",
      "  warnings.warn(\n",
      "/home/ec2-user/anaconda3/envs/pytorch_p310/lib/python3.10/site-packages/langchain/embeddings/__init__.py:29: LangChainDeprecationWarning: Importing embeddings from langchain is deprecated. Importing from langchain will no longer be supported as of langchain==0.2.0. Please import from langchain-community instead:\n",
      "\n",
      "`from langchain_community.embeddings import BedrockEmbeddings`.\n",
      "\n",
      "To install langchain-community run `pip install -U langchain-community`.\n",
      "  warnings.warn(\n",
      "/home/ec2-user/anaconda3/envs/pytorch_p310/lib/python3.10/site-packages/langchain/embeddings/__init__.py:29: LangChainDeprecationWarning: Importing embeddings from langchain is deprecated. Importing from langchain will no longer be supported as of langchain==0.2.0. Please import from langchain-community instead:\n",
      "\n",
      "`from langchain_community.embeddings import BedrockEmbeddings`.\n",
      "\n",
      "To install langchain-community run `pip install -U langchain-community`.\n",
      "  warnings.warn(\n",
      "/home/ec2-user/anaconda3/envs/pytorch_p310/lib/python3.10/site-packages/langchain/vectorstores/__init__.py:35: LangChainDeprecationWarning: Importing vector stores from langchain is deprecated. Importing from langchain will no longer be supported as of langchain==0.2.0. Please import from langchain-community instead:\n",
      "\n",
      "`from langchain_community.vectorstores import FAISS`.\n",
      "\n",
      "To install langchain-community run `pip install -U langchain-community`.\n",
      "  warnings.warn(\n",
      "/home/ec2-user/anaconda3/envs/pytorch_p310/lib/python3.10/site-packages/langchain/document_loaders/__init__.py:36: LangChainDeprecationWarning: Importing document loaders from langchain is deprecated. Importing from langchain will no longer be supported as of langchain==0.2.0. Please import from langchain-community instead:\n",
      "\n",
      "`from langchain_community.document_loaders import PyPDFLoader`.\n",
      "\n",
      "To install langchain-community run `pip install -U langchain-community`.\n",
      "  warnings.warn(\n",
      "/home/ec2-user/anaconda3/envs/pytorch_p310/lib/python3.10/site-packages/langchain/document_loaders/__init__.py:36: LangChainDeprecationWarning: Importing document loaders from langchain is deprecated. Importing from langchain will no longer be supported as of langchain==0.2.0. Please import from langchain-community instead:\n",
      "\n",
      "`from langchain_community.document_loaders import PyPDFDirectoryLoader`.\n",
      "\n",
      "To install langchain-community run `pip install -U langchain-community`.\n",
      "  warnings.warn(\n",
      "/home/ec2-user/anaconda3/envs/pytorch_p310/lib/python3.10/site-packages/langchain/vectorstores/__init__.py:35: LangChainDeprecationWarning: Importing vector stores from langchain is deprecated. Importing from langchain will no longer be supported as of langchain==0.2.0. Please import from langchain-community instead:\n",
      "\n",
      "`from langchain_community.vectorstores import OpenSearchVectorSearch`.\n",
      "\n",
      "To install langchain-community run `pip install -U langchain-community`.\n",
      "  warnings.warn(\n",
      "/home/ec2-user/anaconda3/envs/pytorch_p310/lib/python3.10/site-packages/langchain/document_loaders/__init__.py:36: LangChainDeprecationWarning: Importing document loaders from langchain is deprecated. Importing from langchain will no longer be supported as of langchain==0.2.0. Please import from langchain-community instead:\n",
      "\n",
      "`from langchain_community.document_loaders import JSONLoader`.\n",
      "\n",
      "To install langchain-community run `pip install -U langchain-community`.\n",
      "  warnings.warn(\n",
      "/home/ec2-user/anaconda3/envs/pytorch_p310/lib/python3.10/site-packages/langchain/embeddings/__init__.py:29: LangChainDeprecationWarning: Importing embeddings from langchain is deprecated. Importing from langchain will no longer be supported as of langchain==0.2.0. Please import from langchain-community instead:\n",
      "\n",
      "`from langchain_community.embeddings import BedrockEmbeddings`.\n",
      "\n",
      "To install langchain-community run `pip install -U langchain-community`.\n",
      "  warnings.warn(\n",
      "Requirement already satisfied: boto3==1.34.8 in /home/ec2-user/anaconda3/envs/pytorch_p310/lib/python3.10/site-packages (1.34.8)\n",
      "Requirement already satisfied: botocore<1.35.0,>=1.34.8 in /home/ec2-user/anaconda3/envs/pytorch_p310/lib/python3.10/site-packages (from boto3==1.34.8) (1.34.69)\n",
      "Requirement already satisfied: jmespath<2.0.0,>=0.7.1 in /home/ec2-user/anaconda3/envs/pytorch_p310/lib/python3.10/site-packages (from boto3==1.34.8) (1.0.1)\n",
      "Requirement already satisfied: s3transfer<0.11.0,>=0.10.0 in /home/ec2-user/anaconda3/envs/pytorch_p310/lib/python3.10/site-packages (from boto3==1.34.8) (0.10.0)\n",
      "Requirement already satisfied: python-dateutil<3.0.0,>=2.1 in /home/ec2-user/anaconda3/envs/pytorch_p310/lib/python3.10/site-packages (from botocore<1.35.0,>=1.34.8->boto3==1.34.8) (2.8.2)\n",
      "Requirement already satisfied: urllib3!=2.2.0,<3,>=1.25.4 in /home/ec2-user/anaconda3/envs/pytorch_p310/lib/python3.10/site-packages (from botocore<1.35.0,>=1.34.8->boto3==1.34.8) (1.26.18)\n",
      "Requirement already satisfied: six>=1.5 in /home/ec2-user/anaconda3/envs/pytorch_p310/lib/python3.10/site-packages (from python-dateutil<3.0.0,>=2.1->botocore<1.35.0,>=1.34.8->boto3==1.34.8) (1.16.0)\n",
      "Requirement already satisfied: jq in /home/ec2-user/anaconda3/envs/pytorch_p310/lib/python3.10/site-packages (1.7.0)\n",
      "Requirement already satisfied: opensearch-py in /home/ec2-user/anaconda3/envs/pytorch_p310/lib/python3.10/site-packages (2.5.0)\n",
      "Requirement already satisfied: urllib3<2,>=1.26.18 in /home/ec2-user/anaconda3/envs/pytorch_p310/lib/python3.10/site-packages (from opensearch-py) (1.26.18)\n",
      "Requirement already satisfied: requests<3.0.0,>=2.4.0 in /home/ec2-user/anaconda3/envs/pytorch_p310/lib/python3.10/site-packages (from opensearch-py) (2.31.0)\n",
      "Requirement already satisfied: six in /home/ec2-user/anaconda3/envs/pytorch_p310/lib/python3.10/site-packages (from opensearch-py) (1.16.0)\n",
      "Requirement already satisfied: python-dateutil in /home/ec2-user/anaconda3/envs/pytorch_p310/lib/python3.10/site-packages (from opensearch-py) (2.8.2)\n",
      "Requirement already satisfied: certifi>=2022.12.07 in /home/ec2-user/anaconda3/envs/pytorch_p310/lib/python3.10/site-packages (from opensearch-py) (2024.2.2)\n",
      "Requirement already satisfied: charset-normalizer<4,>=2 in /home/ec2-user/anaconda3/envs/pytorch_p310/lib/python3.10/site-packages (from requests<3.0.0,>=2.4.0->opensearch-py) (3.3.2)\n",
      "Requirement already satisfied: idna<4,>=2.5 in /home/ec2-user/anaconda3/envs/pytorch_p310/lib/python3.10/site-packages (from requests<3.0.0,>=2.4.0->opensearch-py) (3.6)\n",
      "/home/ec2-user/anaconda3/envs/pytorch_p310/lib/python3.10/site-packages/langchain/document_loaders/__init__.py:36: LangChainDeprecationWarning: Importing document loaders from langchain is deprecated. Importing from langchain will no longer be supported as of langchain==0.2.0. Please import from langchain-community instead:\n",
      "\n",
      "`from langchain_community.document_loaders import PyPDFLoader`.\n",
      "\n",
      "To install langchain-community run `pip install -U langchain-community`.\n",
      "  warnings.warn(\n",
      "/home/ec2-user/anaconda3/envs/pytorch_p310/lib/python3.10/site-packages/langchain/document_loaders/__init__.py:36: LangChainDeprecationWarning: Importing document loaders from langchain is deprecated. Importing from langchain will no longer be supported as of langchain==0.2.0. Please import from langchain-community instead:\n",
      "\n",
      "`from langchain_community.document_loaders import PyPDFDirectoryLoader`.\n",
      "\n",
      "To install langchain-community run `pip install -U langchain-community`.\n",
      "  warnings.warn(\n",
      "/home/ec2-user/anaconda3/envs/pytorch_p310/lib/python3.10/site-packages/langchain/vectorstores/__init__.py:35: LangChainDeprecationWarning: Importing vector stores from langchain is deprecated. Importing from langchain will no longer be supported as of langchain==0.2.0. Please import from langchain-community instead:\n",
      "\n",
      "`from langchain_community.vectorstores import OpenSearchVectorSearch`.\n",
      "\n",
      "To install langchain-community run `pip install -U langchain-community`.\n",
      "  warnings.warn(\n",
      "/home/ec2-user/anaconda3/envs/pytorch_p310/lib/python3.10/site-packages/langchain/document_loaders/__init__.py:36: LangChainDeprecationWarning: Importing document loaders from langchain is deprecated. Importing from langchain will no longer be supported as of langchain==0.2.0. Please import from langchain-community instead:\n",
      "\n",
      "`from langchain_community.document_loaders import JSONLoader`.\n",
      "\n",
      "To install langchain-community run `pip install -U langchain-community`.\n",
      "  warnings.warn(\n",
      "/home/ec2-user/anaconda3/envs/pytorch_p310/lib/python3.10/site-packages/langchain/embeddings/__init__.py:29: LangChainDeprecationWarning: Importing embeddings from langchain is deprecated. Importing from langchain will no longer be supported as of langchain==0.2.0. Please import from langchain-community instead:\n",
      "\n",
      "`from langchain_community.embeddings import BedrockEmbeddings`.\n",
      "\n",
      "To install langchain-community run `pip install -U langchain-community`.\n",
      "  warnings.warn(\n"
     ]
    }
   ],
   "source": [
    "# Step1 : Install External modules\n",
    "#----------------------------------------------------------------------------\n",
    "\"\"\"\n",
    "!python boto_client.py\n",
    "!python llm_basemodel.py\n",
    "!python vector_embedding.py\n",
    "!python athena_execution.py\n",
    "!python openSearchVCEmbedding.py\n",
    "!python openSearchVCEmbedding.py\n",
    "\"\"\"\n",
    "#-----------------------------------------------------------------------------"
   ]
  },
  {
   "cell_type": "code",
   "execution_count": 6,
   "id": "45bf28a5-d6fd-4617-8eaf-0a757ca74a5e",
   "metadata": {
    "tags": []
   },
   "outputs": [
    {
     "name": "stdout",
     "output_type": "stream",
     "text": [
      "Requirement already satisfied: boto3==1.34.8 in /home/ec2-user/anaconda3/envs/pytorch_p310/lib/python3.10/site-packages (1.34.8)\n",
      "Requirement already satisfied: botocore<1.35.0,>=1.34.8 in /home/ec2-user/anaconda3/envs/pytorch_p310/lib/python3.10/site-packages (from boto3==1.34.8) (1.34.69)\n",
      "Requirement already satisfied: jmespath<2.0.0,>=0.7.1 in /home/ec2-user/anaconda3/envs/pytorch_p310/lib/python3.10/site-packages (from boto3==1.34.8) (1.0.1)\n",
      "Requirement already satisfied: s3transfer<0.11.0,>=0.10.0 in /home/ec2-user/anaconda3/envs/pytorch_p310/lib/python3.10/site-packages (from boto3==1.34.8) (0.10.0)\n",
      "Requirement already satisfied: python-dateutil<3.0.0,>=2.1 in /home/ec2-user/anaconda3/envs/pytorch_p310/lib/python3.10/site-packages (from botocore<1.35.0,>=1.34.8->boto3==1.34.8) (2.8.2)\n",
      "Requirement already satisfied: urllib3!=2.2.0,<3,>=1.25.4 in /home/ec2-user/anaconda3/envs/pytorch_p310/lib/python3.10/site-packages (from botocore<1.35.0,>=1.34.8->boto3==1.34.8) (1.26.18)\n",
      "Requirement already satisfied: six>=1.5 in /home/ec2-user/anaconda3/envs/pytorch_p310/lib/python3.10/site-packages (from python-dateutil<3.0.0,>=2.1->botocore<1.35.0,>=1.34.8->boto3==1.34.8) (1.16.0)\n",
      "Requirement already satisfied: jq in /home/ec2-user/anaconda3/envs/pytorch_p310/lib/python3.10/site-packages (1.7.0)\n",
      "Requirement already satisfied: opensearch-py in /home/ec2-user/anaconda3/envs/pytorch_p310/lib/python3.10/site-packages (2.5.0)\n",
      "Requirement already satisfied: urllib3<2,>=1.26.18 in /home/ec2-user/anaconda3/envs/pytorch_p310/lib/python3.10/site-packages (from opensearch-py) (1.26.18)\n",
      "Requirement already satisfied: requests<3.0.0,>=2.4.0 in /home/ec2-user/anaconda3/envs/pytorch_p310/lib/python3.10/site-packages (from opensearch-py) (2.31.0)\n",
      "Requirement already satisfied: six in /home/ec2-user/anaconda3/envs/pytorch_p310/lib/python3.10/site-packages (from opensearch-py) (1.16.0)\n",
      "Requirement already satisfied: python-dateutil in /home/ec2-user/anaconda3/envs/pytorch_p310/lib/python3.10/site-packages (from opensearch-py) (2.8.2)\n",
      "Requirement already satisfied: certifi>=2022.12.07 in /home/ec2-user/anaconda3/envs/pytorch_p310/lib/python3.10/site-packages (from opensearch-py) (2024.2.2)\n",
      "Requirement already satisfied: charset-normalizer<4,>=2 in /home/ec2-user/anaconda3/envs/pytorch_p310/lib/python3.10/site-packages (from requests<3.0.0,>=2.4.0->opensearch-py) (3.3.2)\n",
      "Requirement already satisfied: idna<4,>=2.5 in /home/ec2-user/anaconda3/envs/pytorch_p310/lib/python3.10/site-packages (from requests<3.0.0,>=2.4.0->opensearch-py) (3.6)\n"
     ]
    }
   ],
   "source": [
    "!pip3 install boto3==1.34.8\n",
    "!pip3 install jq\n",
    "!pip3 install opensearch-py"
   ]
  },
  {
   "cell_type": "code",
   "execution_count": 7,
   "id": "57151897-a188-4c75-b791-8b8d1311f403",
   "metadata": {
    "tags": []
   },
   "outputs": [],
   "source": [
    "# Step2 : Import External Modules \n",
    "#---------------------------------------------------------------------------------------\n",
    "import boto3\n",
    "from botocore.config import Config\n",
    "from langchain.llms.bedrock import Bedrock\n",
    "from langchain.embeddings import BedrockEmbeddings\n",
    "from openSearchVCEmbedding import EmbeddingBedrockOpenSearch\n",
    "from boto_client import Clientmodules\n",
    "from llm_basemodel import LanguageModel\n",
    "from athena_execution import AthenaQueryExecute\n",
    "import logging \n",
    "import json\n",
    "import os,sys\n",
    "import re\n",
    "sys.path.append(\"/home/ec2-user/SageMaker/llm_bedrock_v0/\")\n",
    "import time\n",
    "import pandas as pd\n",
    "import io\n",
    "#--------------------------------------------------------------------------------------"
   ]
  },
  {
   "cell_type": "code",
   "execution_count": 8,
   "id": "7d5661eb-74b3-45e5-bb53-78510b792dbf",
   "metadata": {
    "tags": []
   },
   "outputs": [],
   "source": [
    "# set the logger \n",
    "logger = logging.getLogger(__name__)\n",
    "logger.setLevel(logging.DEBUG)\n",
    "logger.addHandler(logging.StreamHandler())"
   ]
  },
  {
   "cell_type": "code",
   "execution_count": 9,
   "id": "41724d52-5f19-4776-bfd0-80ea212aa976",
   "metadata": {
    "tags": []
   },
   "outputs": [
    {
     "name": "stderr",
     "output_type": "stream",
     "text": [
      "2024-04-03 12:08:47,782,credentials,MainProcess,INFO,Found credentials from IAM Role: BaseNotebookInstanceEc2InstanceRole\n"
     ]
    }
   ],
   "source": [
    "# Step3 : Checking access to Bedrock \n",
    "# To ensure sagemaker can access Bedrock Models \n",
    "#----------------------------------------------------------------------------------\n",
    "session = boto3.session.Session()\n",
    "bedrock_client = session.client('bedrock')\n",
    "#print(bedrock_client.list_foundation_models()['modelSummaries'][0])"
   ]
  },
  {
   "cell_type": "code",
   "execution_count": 10,
   "id": "a9e7cf18-6f12-4225-9d22-ac7972b85424",
   "metadata": {
    "tags": []
   },
   "outputs": [
    {
     "name": "stderr",
     "output_type": "stream",
     "text": [
      "2024-04-03 12:08:54,554,credentials,MainProcess,INFO,Found credentials from IAM Role: BaseNotebookInstanceEc2InstanceRole\n",
      "athena client created \n",
      "2024-04-03 12:08:54,808,boto_client,MainProcess,INFO,athena client created \n",
      "2024-04-03 12:08:54,847,credentials,MainProcess,INFO,Found credentials from IAM Role: BaseNotebookInstanceEc2InstanceRole\n",
      "s3 client created !!\n",
      "2024-04-03 12:08:54,958,boto_client,MainProcess,INFO,s3 client created !!\n"
     ]
    }
   ],
   "source": [
    "# Step4 : Invoking AthenaClient to check the syntax of query genrated by model and tp get the \n",
    "#         response of recommended query\n",
    "rqstath=AthenaQueryExecute()"
   ]
  },
  {
   "cell_type": "code",
   "execution_count": 11,
   "id": "68dd8318-69d2-46da-81dd-0b430abc6984",
   "metadata": {
    "tags": []
   },
   "outputs": [
    {
     "name": "stderr",
     "output_type": "stream",
     "text": [
      "2024-04-03 12:08:55,003,credentials,MainProcess,INFO,Found credentials from IAM Role: BaseNotebookInstanceEc2InstanceRole\n",
      "bedrock runtime client created \n",
      "2024-04-03 12:08:55,056,boto_client,MainProcess,INFO,bedrock runtime client created \n"
     ]
    }
   ],
   "source": [
    "# Step5 :  Invoking OpenSearch client to add index in OpenSearch \n",
    "ebropen=EmbeddingBedrockOpenSearch()"
   ]
  },
  {
   "cell_type": "code",
   "execution_count": null,
   "id": "8dae455f-719e-4741-8b34-74b901f5139b",
   "metadata": {},
   "outputs": [],
   "source": [
    "#Step6 : Add index to OpenSearch domain using schema of the database \n",
    "#index_name = 'llm_vector_db_metadata_indx1'\n",
    "#file_name = 'imdb_schema.jsonl'\n",
    "#ebropen.add_documnets(index_name,file_name)"
   ]
  },
  {
   "cell_type": "code",
   "execution_count": 12,
   "id": "fbab79ea-8615-4b15-8f45-c9f3cf4d69f6",
   "metadata": {
    "tags": []
   },
   "outputs": [
    {
     "name": "stdout",
     "output_type": "stream",
     "text": [
      "Completed...\n"
     ]
    }
   ],
   "source": [
    "# Step7: To create a class to get vector embedding and to generate sql \n",
    "class RequestQueryBedrock:\n",
    "    def __init__(self):\n",
    "        # self.model_id = \"anthropic.claude-v2\"\n",
    "        self.bedrock_client = Clientmodules.createBedrockRuntimeClient()\n",
    "        self.language_model = LanguageModel(self.bedrock_client)\n",
    "        self.llm = self.language_model.llm\n",
    "    def getOpenSearchEmbedding(self,index_name,user_query):\n",
    "        vcindxdoc=ebropen.getDocumentfromIndex(index_name=index_name)\n",
    "        documnet=ebropen.getSimilaritySearch(user_query,vcindxdoc)\n",
    "        return ebropen.format_metadata(documnet)\n",
    "        \n",
    "    def generate_sql(self,prompt, max_attempt=4) ->str:\n",
    "            \"\"\"\n",
    "            Generate and Validate SQL query.\n",
    "\n",
    "            Args:\n",
    "            - prompt (str): Prompt is user input and metadata from Rag to generating SQL.\n",
    "            - max_attempt (int): Maximum number of attempts correct the syntax SQL.\n",
    "\n",
    "            Returns:\n",
    "            - string: Sql query is returned .\n",
    "            \"\"\"\n",
    "            attempt = 0\n",
    "            error_messages = []\n",
    "            prompts = [prompt]\n",
    "\n",
    "            while attempt < max_attempt:\n",
    "                logger.info(f'Sql Generation attempt Count: {attempt+1}')\n",
    "                try:\n",
    "                    logger.info(f'we are in Try block to generate the sql and count is :{attempt+1}')\n",
    "                    generated_sql = self.llm.predict(prompt)\n",
    "                    query_str = generated_sql.split(\"```\")[1]\n",
    "                    query_str = \" \".join(query_str.split(\"\\n\")).strip()\n",
    "                    sql_query = query_str[3:] if query_str.startswith(\"sql\") else query_str\n",
    "                    # return sql_query\n",
    "                    syntaxcheckmsg=rqstath.syntax_checker(sql_query)\n",
    "                    if syntaxcheckmsg=='Passed':\n",
    "                        logger.info(f'syntax checked for query passed in attempt number :{attempt+1}')\n",
    "                        return sql_query\n",
    "                    else:\n",
    "                        prompt = f\"\"\"{prompt}\n",
    "                        This is syntax error: {syntaxcheckmsg}. \n",
    "                        To correct this, please generate an alternative SQL query which will correct the syntax error.\n",
    "                        The updated query should take care of all the syntax issues encountered.\n",
    "                        Follow the instructions mentioned above to remediate the error. \n",
    "                        Update the below SQL query to resolve the issue:\n",
    "                        {sqlgenerated}\n",
    "                        Make sure the updated SQL query aligns with the requirements provided in the initial question.\"\"\"\n",
    "                        prompts.append(prompt)\n",
    "                        attempt += 1\n",
    "                except Exception as e:\n",
    "                    logger.error('FAILED')\n",
    "                    msg = str(e)\n",
    "                    error_messages.append(msg)\n",
    "                    attempt += 1\n",
    "            return sql_query\n",
    "print(\"Completed...\")"
   ]
  },
  {
   "cell_type": "code",
   "execution_count": 13,
   "id": "64f30cda-ec0a-4f49-a0e3-2437c78d4a6d",
   "metadata": {
    "tags": []
   },
   "outputs": [
    {
     "name": "stderr",
     "output_type": "stream",
     "text": [
      "2024-04-03 12:09:11,175,credentials,MainProcess,INFO,Found credentials from IAM Role: BaseNotebookInstanceEc2InstanceRole\n",
      "bedrock runtime client created \n",
      "2024-04-03 12:09:11,238,boto_client,MainProcess,INFO,bedrock runtime client created \n"
     ]
    }
   ],
   "source": [
    "#Step8 : create the object of above defined class to generate sql \n",
    "index_name = 'llm_vector_db_metadata_indx1'\n",
    "rqst=RequestQueryBedrock()"
   ]
  },
  {
   "cell_type": "code",
   "execution_count": 46,
   "id": "7089ee9f-ea6a-451a-a193-96a826f11816",
   "metadata": {
    "tags": []
   },
   "outputs": [],
   "source": [
    "# Step9 : Create a function to generate user query along with prompt and vector_search \n",
    "def userinput(user_query):\n",
    "    logger.info(f'Searching metadata from vector store')\n",
    "    # vector_search_match=rqst.getEmbeddding(user_query)\n",
    "    vector_search_match=rqst.getOpenSearchEmbedding(index_name,user_query)\n",
    "    # print(vector_search_match)\n",
    "    details=\"\"\"It is important that the SQL query complies with Athena syntax. \n",
    "               During join if column name are same please use alias ex llm.customer_id in select statement. \n",
    "               Generate an SQL query that retrieves data from multiple tables efficiently using appropriate joins and conditions\n",
    "               It is also important to respect the type of columns: if a column is string, the value should be enclosed in \n",
    "               quotes. While concatenating a non string column, make sure cast the column to string. \n",
    "               Efficiently change the data type during comparison like int to double or vice versa.\n",
    "               Example :\n",
    "               For int column comparing to float , please cast the int input\n",
    "               For date columns comparing to string , please cast the string input.\n",
    "               \"Write an SQL query that identifies and removes duplicate records from a table efficiently, considering both time and cost factors\"\"\"\n",
    "    final_question = \"\\n\\nHuman:\"+ details +\"\\n Following  is the database metadata for your reference: \"+ vector_search_match +\"\\n Considering above instructions and taking reference of schema Answer the below query:\"+ user_query+ \"\\n\\nAssistant:\"\n",
    "    print(final_question)\n",
    "    answer = rqst.generate_sql(final_question)\n",
    "    return answer"
   ]
  },
  {
   "cell_type": "code",
   "execution_count": 47,
   "id": "35777f70-cbc1-4a8f-8dd0-5b2d34a30bc6",
   "metadata": {
    "tags": []
   },
   "outputs": [],
   "source": [
    "# Step 10 : Set user query\n",
    "#user_query='show me all the titles in US region'\n",
    "#user_query = 'show me all the regions in which title(s) are availble'\n",
    "user_query = 'give me all the original title names and their rating, note : rating should not be less than 7.5'\n",
    "#user_query ='show me the distinct top 10 ten title name and the votes they have received'\n",
    "#user_query = 'Show me all the title and details in US region whose rating is more than 9.5.'\n",
    "#user_query =  'Great Response! Now show me all the original type titles having ratings more than 7.5 and not in the US region.'"
   ]
  },
  {
   "cell_type": "code",
   "execution_count": 48,
   "id": "d2c90852-24e0-41b4-8552-d030bb72dc11",
   "metadata": {
    "tags": []
   },
   "outputs": [
    {
     "name": "stderr",
     "output_type": "stream",
     "text": [
      "Searching metadata from vector store\n",
      "2024-04-03 12:38:53,589,2369146729,MainProcess,INFO,Searching metadata from vector store\n",
      "2024-04-03 12:38:53,795,base,MainProcess,INFO,POST https://search-vectoddbforntosql-eiooyl4xmfiuptjriaitwnymy4.us-east-1.es.amazonaws.com:443/llm_vector_db_metadata_indx1/_search [status:200 request:0.053s]\n",
      "Sql Generation attempt Count: 1\n",
      "2024-04-03 12:38:53,797,569136725,MainProcess,INFO,Sql Generation attempt Count: 1\n",
      "we are in Try block to generate the sql and count is :1\n",
      "2024-04-03 12:38:53,803,569136725,MainProcess,INFO,we are in Try block to generate the sql and count is :1\n"
     ]
    },
    {
     "name": "stdout",
     "output_type": "stream",
     "text": [
      "\n",
      "\n",
      "Human:It is important that the SQL query complies with Athena syntax. \n",
      "               During join if column name are same please use alias ex llm.customer_id in select statement. \n",
      "               Generate an SQL query that retrieves data from multiple tables efficiently using appropriate joins and conditions\n",
      "               It is also important to respect the type of columns: if a column is string, the value should be enclosed in \n",
      "               quotes. While concatenating a non string column, make sure cast the column to string. \n",
      "               Efficiently change the data type during comparison like int to double or vice versa.\n",
      "               Example :\n",
      "               For int column comparing to float , please cast the int input\n",
      "               For date columns comparing to string , please cast the string input.\n",
      "               \"Write an SQL query that identifies and removes duplicate records from a table efficiently, considering both time and cost factors\n",
      " Following  is the database metadata for your reference: [{{'database_name': 'imdb_stg', 'table_name': 'title', 'table_description': 'This dataset contains title details.', 'relationships': {{'primary_key': [{{'column_name': 'titleId', 'constraint': 'not null'}}, {{'column_name': 'ordering', 'constraint': 'not null'}}], 'foreign_keys': [{{'database_name': 'imdb_stg', 'table_name': 'title_ratings', 'join_on_column': 'tconst'}}]}}, 'columns': [{{'Name': 'titleId', 'Type': 'string', 'Comment': 'This is the unique identifier of the title'}}, {{'Name': 'ordering', 'Type': 'integer', 'Comment': 'This is the uniquely identify rows for a given titleId'}}, {{'Name': 'title', 'Type': 'string', 'Comment': 'The localized title'}}, {{'Name': 'region', 'Type': 'string', 'Comment': 'region for this version of the title'}}, {{'Name': 'language', 'Type': 'string', 'Comment': 'the language of the title'}}, {{'Name': 'types', 'Type': 'string', 'Comment': 'Enumerated set of attributes for this alternative title. One or more of the following: alternative, dvd, festival, tv, video, working, original, imdbDisplay. New values may be added in the future without warning'}}, {{'Name': 'attributes', 'Type': 'string', 'Comment': 'Additional terms to describe this alternative title, not enumerated'}}, {{'Name': 'isOriginalTitle', 'Type': 'string', 'Comment': '0: not original title; 1: original title'}}]}}, {{'database_name': 'imdb_stg', 'table_name': 'title_ratings', 'table_description': 'This dataset contains ratings details', 'relationships': {{'primary_key': [{{'column_name': 'tconst', 'constraint': 'not null'}}]}}, 'columns': [{{'Name': 'tconst', 'Type': 'string', 'Comment': 'This is the unique identifier of the title'}}, {{'Name': 'averageRating', 'Type': 'integer', 'Comment': 'Weighted average of all the individual user ratings'}}, {{'Name': 'numVotes', 'Type': 'string', 'Comment': 'Number of votes the title has received'}}]}}]\n",
      " Considering above instructions and taking reference of schema Answer the below query:give me all the original title names and their rating, note : rating should not be less than 7.5\n",
      "\n",
      "Assistant:\n",
      "Executing: Explain   SELECT t.title, tr.averageRating  FROM imdb_stg.title t INNER JOIN imdb_stg.title_ratings tr ON t.titleId = tr.tconst WHERE t.isOriginalTitle = '1' AND CAST(tr.averageRating AS double) >= 7.5\n",
      " I am checking the syntax here\n",
      "execution_id: a2d8113a-71d4-4cea-ad28-103b40893e7b\n"
     ]
    },
    {
     "name": "stderr",
     "output_type": "stream",
     "text": [
      "syntax checked for query passed in attempt number :1\n",
      "2024-04-03 12:39:03,771,569136725,MainProcess,INFO,syntax checked for query passed in attempt number :1\n"
     ]
    },
    {
     "name": "stdout",
     "output_type": "stream",
     "text": [
      "Status : {'State': 'SUCCEEDED', 'SubmissionDateTime': datetime.datetime(2024, 4, 3, 12, 39, 0, 713000, tzinfo=tzlocal()), 'CompletionDateTime': datetime.datetime(2024, 4, 3, 12, 39, 1, 435000, tzinfo=tzlocal())}\n"
     ]
    }
   ],
   "source": [
    "# Step 11: Result-------------------------------\n",
    "# Generate Output\n",
    "querygenerated=userinput(user_query)\n",
    "#print(querygenerated)"
   ]
  },
  {
   "cell_type": "code",
   "execution_count": 49,
   "id": "78eba6fe-c712-4513-a9a2-2b9acd96e868",
   "metadata": {
    "tags": []
   },
   "outputs": [
    {
     "name": "stdout",
     "output_type": "stream",
     "text": [
      "(' SELECT t.title, tr.averageRating  FROM imdb_stg.title t INNER JOIN '\n",
      " 'imdb_stg.title_ratings tr ON t.titleId = tr.tconst WHERE t.isOriginalTitle = '\n",
      " \"'1' AND CAST(tr.averageRating AS double) >= 7.5\")\n"
     ]
    }
   ],
   "source": [
    "# Step 12: Print Query result \n",
    "import pprint\n",
    "my_printer = pprint.PrettyPrinter()\n",
    "my_printer.pprint(querygenerated)"
   ]
  },
  {
   "cell_type": "code",
   "execution_count": 50,
   "id": "ad6831e5-d4df-4124-b462-b414302859af",
   "metadata": {
    "tags": []
   },
   "outputs": [
    {
     "name": "stdout",
     "output_type": "stream",
     "text": [
      "In last block........\n"
     ]
    },
    {
     "name": "stderr",
     "output_type": "stream",
     "text": [
      "checking for file :athena_output/b674c8b2-4b0f-4c2f-97d6-94e6ef7f5cbb.csv\n",
      "2024-04-03 12:41:35,037,athena_execution,MainProcess,INFO,checking for file :athena_output/b674c8b2-4b0f-4c2f-97d6-94e6ef7f5cbb.csv\n"
     ]
    },
    {
     "name": "stdout",
     "output_type": "stream",
     "text": [
      "Calling download fine with params /tmp/athena_output/b674c8b2-4b0f-4c2f-97d6-94e6ef7f5cbb.csv, {'OutputLocation': 's3://tesawsbucketdesign1/athena_output'}\n",
      "                                   title  averageRating\n",
      "0                          Purr Cat Cafe            7.5\n",
      "1                  The Loss of the Perch            7.9\n",
      "2                 The Triton's Christmas            8.3\n",
      "3                   Rebel Without a Pawn            8.0\n",
      "4       Tower of Babel: The New Evidence            8.0\n",
      "...                                  ...            ...\n",
      "560175                 The Eternal Derby            8.1\n",
      "560176   Bare Feet with Mickela Mallozzi            7.5\n",
      "560177                  Full Steam Ahead            8.4\n",
      "560178                    O último Andar            7.7\n",
      "560179                Bucky and the Howl            7.5\n",
      "\n",
      "[560180 rows x 2 columns]\n",
      "completed........\n"
     ]
    }
   ],
   "source": [
    "#Step 13 : Execute the above generated  query \n",
    "print(\"In last block........\")\n",
    "QueryOutput=rqstath.execute_query(querygenerated)\n",
    "print(QueryOutput)\n",
    "print(\"completed........\")"
   ]
  },
  {
   "cell_type": "code",
   "execution_count": null,
   "id": "4cc51f37-6538-49a7-9699-9416dab58fc5",
   "metadata": {},
   "outputs": [],
   "source": []
  }
 ],
 "metadata": {
  "kernelspec": {
   "display_name": "conda_pytorch_p310",
   "language": "python",
   "name": "conda_pytorch_p310"
  },
  "language_info": {
   "codemirror_mode": {
    "name": "ipython",
    "version": 3
   },
   "file_extension": ".py",
   "mimetype": "text/x-python",
   "name": "python",
   "nbconvert_exporter": "python",
   "pygments_lexer": "ipython3",
   "version": "3.10.13"
  }
 },
 "nbformat": 4,
 "nbformat_minor": 5
}
